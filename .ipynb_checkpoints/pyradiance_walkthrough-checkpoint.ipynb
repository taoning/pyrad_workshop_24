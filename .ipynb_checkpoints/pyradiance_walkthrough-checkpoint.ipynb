{
 "cells": [
  {
   "cell_type": "markdown",
   "id": "0e1d4c97-55be-4a14-aab4-0e001cc6a5c2",
   "metadata": {},
   "source": [
    "# pyradiance_walkthrough"
   ]
  },
  {
   "cell_type": "markdown",
   "id": "80e5a6ad-3796-4dff-a845-1897b3c9262f",
   "metadata": {},
   "source": [
    "## Install requirements in Google Collab"
   ]
  },
  {
   "cell_type": "code",
   "execution_count": null,
   "id": "1d1e5af2-72e9-447b-9469-43620e020f34",
   "metadata": {},
   "outputs": [],
   "source": [
    "!git clone -b development https://github.com/shirubana/pyrad_workshop_24.git"
   ]
  },
  {
   "cell_type": "code",
   "execution_count": null,
   "id": "d94d50d8-b97e-402e-9ad8-be703beed10a",
   "metadata": {},
   "outputs": [],
   "source": [
    "cd pyrad_workshop_24"
   ]
  },
  {
   "cell_type": "code",
   "execution_count": null,
   "id": "ec0fe0dc-1a4b-44c7-9a7c-9c97bae74b0b",
   "metadata": {},
   "outputs": [],
   "source": [
    "!pip install -r requirements.txt"
   ]
  },
  {
   "cell_type": "code",
   "execution_count": 5,
   "id": "28c687b5-92c8-4614-a22f-85fd0c2add19",
   "metadata": {},
   "outputs": [],
   "source": [
    "import datetime\n",
    "\n",
    "import numpy as np\n",
    "import matplotlib.pyplot as plt\n",
    "import matplotlib as mpl\n",
    "import pyradiance as pr"
   ]
  },
  {
   "cell_type": "markdown",
   "id": "ce120eba-7867-44f6-a631-a70b1f431e3f",
   "metadata": {},
   "source": [
    "### Make a scene"
   ]
  },
  {
   "cell_type": "code",
   "execution_count": null,
   "id": "1667e9d5-2618-4467-ab19-8b47cd756c65",
   "metadata": {},
   "outputs": [],
   "source": [
    "my_scene = pr.Scene(\n",
    "    \"my_scene\",\n",
    "    surfaces=[\"Objects/room.rad\"],\n",
    "    materials=[\"Objects/materials.mat\"])\n",
    "\n",
    "my_view = pr.View(\n",
    "    vtype='a',\n",
    "    position=(6, 6, 4),\n",
    "    direction=(0, -1, 0),\n",
    "    horiz=180,\n",
    "    vert=180,\n",
    ")\n",
    "my_scene.add_view(my_view)\n",
    "\n",
    "dt = datetime.datetime.now()\n",
    "for prim in pr.parse_primitive(pr.gendaylit(dt, 37, 122, 120, dirnorm=800, diffhor=80).decode()):\n",
    "    my_scene.add_source(prim)\n",
    "my_scene.add_source(pr.Primitive(\"skyfunc\", \"glow\", \"skyglow\", [], [1, 1, 1, 0]))\n",
    "my_scene.add_source(pr.Primitive(\"skyglow\", \"source\", \"skydome\", [], [0, 0, 1, 180]))\n",
    "my_scene.add_source(pr.Primitive(\"skyglow\", \"source\", \"groundplane\", [], [0, 0, -1, 180]))"
   ]
  },
  {
   "cell_type": "markdown",
   "id": "2e0ee6ca-b86a-40f5-acab-4e639e342185",
   "metadata": {},
   "source": [
    "### Render"
   ]
  },
  {
   "cell_type": "code",
   "execution_count": null,
   "id": "c5a5bae8-817c-40e5-8e27-e3e1845ed677",
   "metadata": {},
   "outputs": [],
   "source": [
    "img = pr.render(my_scene, resolution=(800, 800), ambbounce=1, nproc=8, quality=\"L\")"
   ]
  },
  {
   "cell_type": "markdown",
   "id": "68d149f6-d6b9-4dec-afc7-9e2871c02892",
   "metadata": {},
   "source": [
    "### Tone-mapping"
   ]
  },
  {
   "cell_type": "code",
   "execution_count": null,
   "id": "a713de03-bf8f-4f8f-ac94-e20e65ec6a76",
   "metadata": {},
   "outputs": [],
   "source": [
    "with open(\"raw.hdr\", \"wb\") as f:\n",
    "    f.write(img)\n",
    "img_tm = pr.pcond(\"raw.hdr\", human=True)\n",
    "_, yres, _, xres = pr.getinfo(img, dimension_only=True).decode().split()\n",
    "xres, yres = int(xres), int(yres)\n",
    "img_data = pr.pvalue(img_tm, header=False, outform='f', resstr=False)\n",
    "img_array = np.frombuffer(img_data, dtype=np.single).reshape(xres, yres, 3)\n",
    "plt.imshow(img_array)"
   ]
  },
  {
   "cell_type": "markdown",
   "id": "05b90af6-43f9-4786-a4e6-2517439db535",
   "metadata": {},
   "source": [
    "### Luminance falsecoloring"
   ]
  },
  {
   "cell_type": "code",
   "execution_count": null,
   "id": "cc43efbb-c380-471a-bc6f-e17ecd6f8905",
   "metadata": {},
   "outputs": [],
   "source": [
    "img_data = pr.pvalue(img, header=False, outform='f', resstr=False)\n",
    "img_array = np.frombuffer(img_data, dtype=np.single).reshape(xres, yres, 3)\n",
    "luminance = img_array[:, :, 0] * 47.4 + img_array[:, :, 1] * 119.9 + img_array[:, :, 2] * 11.6\n",
    "plt.imshow(luminance, cmap='viridis', norm=mpl.colors.LogNorm())\n",
    "plt.colorbar()"
   ]
  },
  {
   "cell_type": "markdown",
   "id": "78a71033-3bc8-407d-886f-7edd65be0fcb",
   "metadata": {},
   "source": [
    "### Set sampling parameters"
   ]
  },
  {
   "cell_type": "code",
   "execution_count": null,
   "id": "b262b68d-0ad9-4767-b2f2-0f093c953654",
   "metadata": {},
   "outputs": [],
   "source": [
    "sp = pr.SamplingParameters()\n",
    "sp.aa = 0\n",
    "sp.ad = 32\n",
    "sp.ab = 2"
   ]
  },
  {
   "cell_type": "markdown",
   "id": "d19b8d22-dacd-44b7-bafc-d452eb6a061a",
   "metadata": {},
   "source": [
    "### Rendering with rtpict"
   ]
  },
  {
   "cell_type": "code",
   "execution_count": null,
   "id": "8705423a-814f-4776-93b6-ed1b211bbfa4",
   "metadata": {},
   "outputs": [],
   "source": [
    "img = pr.rtpict(my_view, my_scene.octree, xres=3200, yres=3200, nproc=8, params=sp.args())"
   ]
  },
  {
   "cell_type": "markdown",
   "id": "90180fa6-7c8e-44c8-adcc-6c27847711b0",
   "metadata": {},
   "source": [
    "### Tone-mapping"
   ]
  },
  {
   "cell_type": "code",
   "execution_count": null,
   "id": "9f4fa80a-5f09-49f9-bed6-00bb9fbeb894",
   "metadata": {},
   "outputs": [],
   "source": [
    "pwd"
   ]
  },
  {
   "cell_type": "code",
   "execution_count": null,
   "id": "f688ec98-5555-456d-800e-de65eeea9476",
   "metadata": {},
   "outputs": [],
   "source": [
    "with open(\"raw2.hdr\", \"wb\") as f:\n",
    "    f.write(pr.pfilt(img, one_pass=True, xres=\"/4\", yres=\"/4\", gaussian_filter_radius=0.6))\n",
    "img_arr = np.frombuffer(pr.pvalue(pr.pcond(\"raw2.hdr\", human=True), header=False, outform='f', resstr=False), dtype=np.single).reshape(800, 800, 3)"
   ]
  },
  {
   "cell_type": "code",
   "execution_count": null,
   "id": "18469d0e-a8ba-4d8c-ad7f-20639a6a576b",
   "metadata": {},
   "outputs": [],
   "source": [
    "plt.imshow(img_arr)"
   ]
  },
  {
   "cell_type": "markdown",
   "id": "d2a33f54-86f2-4280-971e-365b6442b7d2",
   "metadata": {},
   "source": [
    "### BSDF analysis"
   ]
  },
  {
   "cell_type": "code",
   "execution_count": null,
   "id": "f2a64a0a-e05c-419c-a5fb-3b8c8b94498c",
   "metadata": {},
   "outputs": [],
   "source": [
    "ttree = pr.BSDF(\"./ms6858_g6.xml\")"
   ]
  },
  {
   "cell_type": "code",
   "execution_count": null,
   "id": "5713853b-1265-42a1-93ef-cfe35199535b",
   "metadata": {},
   "outputs": [],
   "source": [
    "ttree.info\n",
    "ttree.components"
   ]
  },
  {
   "cell_type": "code",
   "execution_count": null,
   "id": "906c8c1d-3233-4f36-b063-32941408ea93",
   "metadata": {},
   "outputs": [],
   "source": [
    "klems = pr.BSDF(\"./ms6858_kf.xml\")\n",
    "klems.info\n",
    "klems.components"
   ]
  },
  {
   "cell_type": "code",
   "execution_count": null,
   "id": "68b4dd03-b572-4f76-b924-9159d0d674f6",
   "metadata": {},
   "outputs": [],
   "source": [
    "ttree_tau_h = []\n",
    "klems_tau_h = []\n",
    "for i in range(90):\n",
    "    ttree_tau_h.append(ttree.direct_hemi(i, 0, 't'))\n",
    "    klems_tau_h.append(klems.direct_hemi(i, 0, 't'))"
   ]
  },
  {
   "cell_type": "code",
   "execution_count": null,
   "id": "99877fb3-2486-45f1-8398-ea46ad506541",
   "metadata": {},
   "outputs": [],
   "source": [
    "plt.plot(ttree_tau_h, label=\"ttree\")\n",
    "plt.plot(klems_tau_h, label=\"klems\")\n",
    "plt.xlabel(\"theta (deg)\")\n",
    "plt.ylabel(\"tau_h\")\n",
    "plt.legend()"
   ]
  },
  {
   "cell_type": "code",
   "execution_count": null,
   "id": "4398f687-0d0a-4413-8df4-b70199f1a251",
   "metadata": {},
   "outputs": [],
   "source": []
  },
  {
   "cell_type": "markdown",
   "id": "30716a58-9ae5-4290-b716-2694bf4aabe6",
   "metadata": {},
   "source": [
    "### Generate spectral sky primitives"
   ]
  },
  {
   "cell_type": "code",
   "execution_count": null,
   "id": "9960ce0b-ddff-4dfd-a2f4-87b343bfb9dc",
   "metadata": {},
   "outputs": [],
   "source": [
    "ssky = pr.genssky(\n",
    "    datetime.datetime.now(),\n",
    "    latitude=40.8,\n",
    "    longitude=111.9,\n",
    "    timezone=105,\n",
    "    nthreads=8,\n",
    ")"
   ]
  },
  {
   "cell_type": "code",
   "execution_count": null,
   "id": "8e5caa9f-609b-4bf6-a615-336626350cc4",
   "metadata": {},
   "outputs": [],
   "source": [
    "sky_glow = str(pr.Primitive(\"skyfunc\", \"glow\", \"skyglow\", [], [1,1,1,0])).encode()\n",
    "sky_source = str(pr.Primitive(\"skyglow\", \"source\", \"skydome\", [], [0,0,1,180])).encode()\n",
    "ground_source = str(pr.Primitive(\"skyglow\", \"source\", \"groundplane\", [], [0,0,-1,180])).encode()"
   ]
  },
  {
   "cell_type": "markdown",
   "id": "9aee01ae-bf54-4040-97a9-cd6812d549e0",
   "metadata": {},
   "source": [
    "### Modify this to generate the octree, right now it only contains the skys"
   ]
  },
  {
   "cell_type": "code",
   "execution_count": null,
   "id": "66cb67bf-3786-41bf-ad58-57898c6ccb2d",
   "metadata": {},
   "outputs": [],
   "source": [
    "with open(\"sky.oct\", \"wb\") as f: f.write(pr.oconv(stdin=ssky+sky_glow+sky_source+ground_source))"
   ]
  },
  {
   "cell_type": "markdown",
   "id": "85c418bc-496f-4587-9412-df84f5c84b57",
   "metadata": {},
   "source": [
    "### Render an image"
   ]
  },
  {
   "cell_type": "code",
   "execution_count": null,
   "id": "21bd394a-b161-4baf-abc7-46372c6f3ff8",
   "metadata": {},
   "outputs": [],
   "source": []
  }
 ],
 "metadata": {
  "kernelspec": {
   "display_name": "Python (RadWorkshop)",
   "language": "python",
   "name": "radworkshop"
  },
  "language_info": {
   "codemirror_mode": {
    "name": "ipython",
    "version": 3
   },
   "file_extension": ".py",
   "mimetype": "text/x-python",
   "name": "python",
   "nbconvert_exporter": "python",
   "pygments_lexer": "ipython3",
   "version": "3.12.4"
  }
 },
 "nbformat": 4,
 "nbformat_minor": 5
}
