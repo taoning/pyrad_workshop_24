{
 "cells": [
  {
   "cell_type": "markdown",
   "id": "ffe5366c-910b-4176-ad36-d40e9b2f170e",
   "metadata": {},
   "source": [
    "# Frads walkthrough"
   ]
  },
  {
   "cell_type": "code",
   "execution_count": null,
   "id": "565f6520-cbbd-4a73-8b81-365886a137d8",
   "metadata": {},
   "outputs": [],
   "source": [
    "!git clone -b development https://github.com/shirubana/pyrad_workshop_24.git"
   ]
  },
  {
   "cell_type": "code",
   "execution_count": null,
   "id": "930fcbbe-9688-4c34-8236-198d43621756",
   "metadata": {},
   "outputs": [],
   "source": [
    "cd pyrad_workshop_24"
   ]
  },
  {
   "cell_type": "code",
   "execution_count": null,
   "id": "4e80c75e-1b31-477a-88ae-5c4e1ea32174",
   "metadata": {},
   "outputs": [],
   "source": [
    "!pip install -r requirements.txt"
   ]
  },
  {
   "cell_type": "code",
   "execution_count": 1,
   "id": "a9035d98-d04e-4b44-9b39-1f5db154797a",
   "metadata": {},
   "outputs": [],
   "source": [
    "import datetime\n",
    "from pathlib import Path\n",
    "\n",
    "import frads as fr\n",
    "import numpy as np\n",
    "import pyradiance as pr\n",
    "import matplotlib.pyplot as plt\n",
    "from pyenergyplus.dataset import ref_models"
   ]
  },
  {
   "cell_type": "markdown",
   "id": "6cd46173-c7c8-4336-bdcb-1615dee12d14",
   "metadata": {},
   "source": [
    "## Horizontal melanopic lux"
   ]
  },
  {
   "cell_type": "markdown",
   "id": "446a5e36-f80d-4bed-861d-8d20fc7ce77f",
   "metadata": {},
   "source": [
    "### Make another scene"
   ]
  },
  {
   "cell_type": "code",
   "execution_count": 2,
   "id": "72d1cf22-c5f3-468d-8e4f-e7bb1b2dfa18",
   "metadata": {},
   "outputs": [],
   "source": [
    "my_scene = pr.Scene(\n",
    "    \"my_scene\", \n",
    "    surfaces=[\"Objects/floor.rad\", \"Objects/walls.rad\", \"Objects/ceiling.rad\"], \n",
    "    materials=[\"Objects/materials.mat\"], \n",
    "    sources=[\"Sources/gs_1221_1200.rad\", \"Sources/sky.rad\"]\n",
    ") "
   ]
  },
  {
   "cell_type": "markdown",
   "id": "10127e86-9caf-4ea9-a4c9-22d1cf835c6c",
   "metadata": {},
   "source": [
    "### Generate grid from floor polygon"
   ]
  },
  {
   "cell_type": "code",
   "execution_count": 3,
   "id": "eb3162f3-fa37-4af4-aebe-bdfa0cf7b5f9",
   "metadata": {},
   "outputs": [],
   "source": [
    "floor_primitives = fr.unpack_primitives(\"Objects/floor.rad\")\n",
    "floor_polygon = fr.parse_polygon(floor_primitives[0])  # taking the 1st primitive\n",
    "grid = fr.gen_grid(floor_polygon, 1, 0.75)"
   ]
  },
  {
   "cell_type": "markdown",
   "id": "d8e5299a-1356-45a7-a3f5-7da79319df82",
   "metadata": {},
   "source": [
    "### Trace"
   ]
  },
  {
   "cell_type": "code",
   "execution_count": 4,
   "id": "b678d293-9297-4e31-96ee-1c9e9dc37087",
   "metadata": {},
   "outputs": [],
   "source": [
    "grid_rays = \"\\n\".join(\" \".join(map(str, row)) for row in grid)\n",
    "nband = 20\n",
    "params = pr.SamplingParameters(\n",
    "    I=True,\n",
    "    ab=3,\n",
    "    ad=64,\n",
    "    aa=0,\n",
    "    lw=0.01,\n",
    "    co=True,\n",
    "    cs=nband,\n",
    ")\n",
    "\n",
    "result = pr.rtrace(grid_rays.encode(), my_scene.octree, params=params.args()+['-pM'], header=False, outform='f')"
   ]
  },
  {
   "cell_type": "markdown",
   "id": "46419679-d12b-49fa-8ec4-ae86962e9d02",
   "metadata": {},
   "source": [
    "### Visualize"
   ]
  },
  {
   "cell_type": "code",
   "execution_count": 5,
   "id": "a857cf3d-503f-40cd-8112-370627046d62",
   "metadata": {},
   "outputs": [
    {
     "data": {
      "text/plain": [
       "<matplotlib.colorbar.Colorbar at 0x1f54005fa70>"
      ]
     },
     "execution_count": 5,
     "metadata": {},
     "output_type": "execute_result"
    },
    {
     "data": {
      "image/png": "[encoded data removed]",
      "text/plain": [
       "<Figure size 640x480 with 2 Axes>"
      ]
     },
     "metadata": {},
     "output_type": "display_data"
    }
   ],
   "source": [
    "mlux = np.frombuffer(result, dtype=np.single).reshape(53, 61)   # grid dimensions\n",
    "plt.imshow(mlux)\n",
    "plt.colorbar()"
   ]
  },
  {
   "cell_type": "code",
   "execution_count": 6,
   "id": "8b6f3dba-705d-49b9-8abc-6eddc4ca05c7",
   "metadata": {},
   "outputs": [],
   "source": [
    "settings = fr.Settings()\n",
    "# Edit the number of parallel processes\n",
    "settings.num_processors = 4\n",
    "\n",
    "# Provide a wea file\n",
    "settings.wea_file = \"oak.wea\""
   ]
  },
  {
   "cell_type": "markdown",
   "id": "45c2cac5-c336-47a6-87b6-ce26091d969c",
   "metadata": {},
   "source": [
    "## Phase simulation"
   ]
  },
  {
   "cell_type": "markdown",
   "id": "9b0e388d-32e9-4176-9c33-f56361ddc4e5",
   "metadata": {},
   "source": [
    "### Setting up a workflow configuration from a dictionary\n",
    "### see [here](https://lbnl-eta.github.io/frads/how-to/guide_rad2/) for setting up one item at a time."
   ]
  },
  {
   "cell_type": "code",
   "execution_count": 7,
   "id": "da07277f-4a8c-48bd-87f7-9c9cb38eee7d",
   "metadata": {},
   "outputs": [],
   "source": [
    "workflow_config = {\n",
    "    \"settings\": {\n",
    "        \"method\": \"3phase\",\n",
    "        \"sky_basis\": \"r1\",\n",
    "        \"epw_file\": \"\",\n",
    "        \"wea_file\": \"Resources/slc.wea\",\n",
    "        \"sensor_sky_matrix\": [\"-ab\", \"1\"],\n",
    "        \"view_sky_matrix\": [\"-ab\", \"1\"],\n",
    "        \"sensor_window_matrix\": [\"-ab\", \"1\"],\n",
    "        \"view_window_matrix\": [\"-ab\", \"1\"],\n",
    "        \"daylight_matrix\": [\"-ab\", \"1\"],\n",
    "        \"num_processors\": 32,\n",
    "        \"save_matrices\": True,\n",
    "    },\n",
    "    \"model\": {\n",
    "        \"scene\": {\n",
    "            \"files\": [\"Objects/walls.rad\", \"Objects/ceiling.rad\", \"Objects/floor.rad\",\"Objects/ground.rad\"]\n",
    "        },\n",
    "        \"windows\": {\n",
    "            \"window1\": {\n",
    "                \"file\": \"Objects/upper_glass.rad\",\n",
    "                \"matrix_name\": \"window1_matrix\",\n",
    "            },\n",
    "                        \"window2\": {\n",
    "                \"file\": \"Objects/lower_glass.rad\",\n",
    "                \"matrix_name\": \"window1_matrix\",\n",
    "            }\n",
    "        },\n",
    "        \"materials\": {\n",
    "            \"files\": [\"Objects/materials.mat\"],\n",
    "            \"matrices\": {\"window1_matrix\": {\"matrix_file\": \"Resources/ms6858_kf.xml\"}},\n",
    "        },\n",
    "        \"sensors\": {\n",
    "            \"view1\": {\"data\": [[5, 5, 4, 0, 0, 1]]},\n",
    "        },\n",
    "    },\n",
    "}\n",
    "cfg = fr.WorkflowConfig.from_dict(workflow_config)"
   ]
  },
  {
   "cell_type": "code",
   "execution_count": 8,
   "id": "c69cbfd8-af7d-482f-8679-4f5f415143f5",
   "metadata": {},
   "outputs": [],
   "source": [
    "workflow = fr.ThreePhaseMethod(cfg)"
   ]
  },
  {
   "cell_type": "code",
   "execution_count": null,
   "id": "3b882c38-f4c7-4ffb-9ecd-48885b261208",
   "metadata": {},
   "outputs": [],
   "source": [
    "workflow.generate_matrices()"
   ]
  },
  {
   "cell_type": "code",
   "execution_count": null,
   "id": "73614b5f-c02c-4fce-be7e-a3308acd92a3",
   "metadata": {},
   "outputs": [],
   "source": [
    "workflow.calculate_sensor(\n",
    "    sensor=\"view1\",\n",
    "    bsdf={\"window1\": \"window1_matrix\",\"window2\": \"window1_matrix\"},\n",
    "    time=datetime.datetime(2023, 1, 1, 12),\n",
    "    dni=800,\n",
    "    dhi=100,\n",
    ")"
   ]
  },
  {
   "cell_type": "code",
   "execution_count": null,
   "id": "2bdc1807-3ff0-48ca-bf59-aa8509bd379c",
   "metadata": {},
   "outputs": [],
   "source": [
    "workflow2 = fr.TwoPhaseMethod(cfg)"
   ]
  },
  {
   "cell_type": "code",
   "execution_count": null,
   "id": "657d564f-2a09-4da0-a36a-f7b963c3007c",
   "metadata": {},
   "outputs": [],
   "source": [
    "workflow2.generate_matrices()"
   ]
  },
  {
   "cell_type": "code",
   "execution_count": null,
   "id": "2897e6ba-1cdd-4082-a1d1-7ed56b713954",
   "metadata": {},
   "outputs": [],
   "source": [
    "workflow2.calculate_sensor(\n",
    "    sensor=\"view1\",\n",
    "    time=datetime.datetime(2023, 1, 1, 12),\n",
    "    dni=800,\n",
    "    dhi=100,\n",
    ")"
   ]
  },
  {
   "cell_type": "markdown",
   "id": "2fb87365-e40f-4d6c-a6f2-dc0504523899",
   "metadata": {},
   "source": [
    "## EnergyPlus and Radiance"
   ]
  },
  {
   "cell_type": "markdown",
   "id": "4df4b9ca-ba5e-47fa-84a6-0c955aeae8e5",
   "metadata": {},
   "source": [
    "### Load an EnergyPlus model\n",
    "The model can be an .idf file or .epJSON file.\n",
    "Here we are loading a small office prototypical building model that comes with pyenergyplus"
   ]
  },
  {
   "cell_type": "code",
   "execution_count": 2,
   "id": "786b96d7-9cab-4544-8b91-12aad02670b8",
   "metadata": {},
   "outputs": [],
   "source": [
    "epmodel = fr.load_energyplus_model(ref_models['small_office'])"
   ]
  },
  {
   "cell_type": "markdown",
   "id": "25128933-37d4-455c-a694-5e4a9dbce3b6",
   "metadata": {},
   "source": [
    "### Load an EnergyPlus model\n",
    "The model can be an .idf file or .epJSON file.\n",
    "Here we are loading the small office prototype building comes with pyenergyplus"
   ]
  },
  {
   "cell_type": "markdown",
   "id": "c688db90-2aa6-4b43-b39b-0a02a5b0b07f",
   "metadata": {},
   "source": [
    "### Create Glazing Systems (BSDF)\n",
    "#### See [here](https://lbnl-eta.github.io/frads/how-to/guide_ep2/) for more options"
   ]
  },
  {
   "cell_type": "code",
   "execution_count": 3,
   "id": "01b40919-7dea-4910-b8d3-1d7f3c0f0632",
   "metadata": {},
   "outputs": [],
   "source": [
    "ec60 = fr.create_glazing_system(\n",
    "    name=\"ec_60\",\n",
    "    layers=[\n",
    "        Path(\"Resources/igsdb_product_7406.json\"), # electrochromic 60%\n",
    "        Path(\"Resources/igsdb_product_14028.json\"), # clear glass\n",
    "    ],\n",
    ")\n",
    "ec18 = fr.create_glazing_system(\n",
    "    name=\"ec_60\",\n",
    "    layers=[\n",
    "        Path(\"Resources/igsdb_product_7404.json\"), # electrochromic 18%\n",
    "        Path(\"Resources/igsdb_product_14028.json\"), # clear glass\n",
    "    ],\n",
    ")\n",
    "epmodel.add_glazing_system(ec60)\n",
    "epmodel.add_glazing_system(ec18)"
   ]
  },
  {
   "cell_type": "code",
   "execution_count": 4,
   "id": "cd15eab3-2297-4184-997a-85dfad156eca",
   "metadata": {},
   "outputs": [
    {
     "name": "stderr",
     "output_type": "stream",
     "text": [
      "/home/taoningw/Projects/pyrad_workshop_24/.venv/lib/python3.12/site-packages/pydantic/main.py:415: UserWarning: Pydantic serializer warnings:\n",
      "  Expected `Union[EvaporativeCondenserPumpRatedPowerConsumption, literal['Autosize']]` but got `float` - serialized value may not be as expected\n",
      "  Expected `Union[EvaporativeCondenserPumpRatedPowerConsumption, literal['Autosize']]` but got `float` - serialized value may not be as expected\n",
      "  Expected `Union[EvaporativeCondenserPumpRatedPowerConsumption, literal['Autosize']]` but got `float` - serialized value may not be as expected\n",
      "  Expected `Union[EvaporativeCondenserPumpRatedPowerConsumption, literal['Autosize']]` but got `float` - serialized value may not be as expected\n",
      "  Expected `Union[EvaporativeCondenserPumpRatedPowerConsumption, literal['Autosize']]` but got `float` - serialized value may not be as expected\n",
      "  return self.__pydantic_serializer__.to_json(\n"
     ]
    }
   ],
   "source": [
    "epsetup = fr.EnergyPlusSetup(epmodel, enable_radiance=True)"
   ]
  },
  {
   "cell_type": "code",
   "execution_count": 5,
   "id": "10a4e8c1-b86b-431b-b051-88893be093b4",
   "metadata": {},
   "outputs": [],
   "source": [
    "# epsetup.run(design_day=True)"
   ]
  },
  {
   "cell_type": "markdown",
   "id": "7ba1efe5-afa4-470c-8087-31ffe6e3dc45",
   "metadata": {},
   "source": [
    "### Runtime call back"
   ]
  },
  {
   "cell_type": "code",
   "execution_count": 6,
   "id": "ba01721a-ad43-4ca4-b8ec-03d7c0e82bc6",
   "metadata": {},
   "outputs": [],
   "source": [
    "def controller(state):\n",
    "    # check if the api is fully ready\n",
    "    if not epsetup.api.exchange.api_data_fully_ready(state):\n",
    "        return\n",
    "\n",
    "    # control facade shading state based on exterior solar irradiance\n",
    "    # get exterior solar irradiance\n",
    "    ext_irradiance = epsetup.get_variable_value(\n",
    "        name=\"Surface Outside Face Incident Solar Radiation Rate per Area\",\n",
    "        key=\"Perimeter_ZN_1_wall_south_Window_1\",\n",
    "    )\n",
    "    # facade shading state control algorithm\n",
    "    if ext_irradiance <= 300:\n",
    "        ec = \"60\"\n",
    "    else:\n",
    "        ec = \"18\"\n",
    "    cfs_state = f\"ec_{ec}\"\n",
    "    # actuate facade shading state\n",
    "    epsetup.actuate_cfs_state(\n",
    "        window=\"Perimeter_ZN_1_wall_south_Window_1\",\n",
    "        cfs_state=cfs_state,\n",
    "    )\n",
    "    # calculate average workplane illuminance using Radiance\n",
    "    avg_wpi = epsetup.calculate_wpi(\n",
    "        zone=\"Perimeter_ZN_1\",\n",
    "        cfs_name={\n",
    "            \"Perimeter_ZN_1_wall_south_Window_1\": cfs_state,\n",
    "            \"Perimeter_ZN_1_wall_south_Window_2\": cfs_state,\n",
    "            \"Perimeter_ZN_1_wall_south_Window_3\": cfs_state,\n",
    "            \"Perimeter_ZN_1_wall_south_Window_4\": cfs_state,\n",
    "            \"Perimeter_ZN_1_wall_south_Window_5\": cfs_state,\n",
    "            \"Perimeter_ZN_1_wall_south_Window_6\": cfs_state,\n",
    "            \"Perimeter_ZN_1_wall_south_door\": cfs_state,\n",
    "        },\n",
    "    ).mean()\n",
    "    # electric lighting power control algorithm\n",
    "    # if occupant_count > 0:\n",
    "    #     lighting_power = (\n",
    "    #         1 - min(avg_wpi / 500, 1)\n",
    "    #     ) * 1200  # 1200W is the nominal lighting power density\n",
    "    # else:\n",
    "    #     lighting_power = 0\n",
    "    # actuate electric lighting power\n",
    "    # epsetup.actuate_lighting_power(\n",
    "    #     light=\"Perimeter_ZN_1\",\n",
    "    #     value=lighting_power,\n",
    "    # )"
   ]
  },
  {
   "cell_type": "code",
   "execution_count": 7,
   "id": "39c6c279-9259-448e-8874-3444fa4ad9bf",
   "metadata": {},
   "outputs": [],
   "source": [
    "epsetup.set_callback(\n",
    "    \"callback_begin_system_timestep_before_predictor\",\n",
    "    controller\n",
    ")"
   ]
  },
  {
   "cell_type": "code",
   "execution_count": null,
   "id": "9e4da78e-adea-47d3-9ae2-8335bf5aaacb",
   "metadata": {},
   "outputs": [],
   "source": [
    "epsetup.run(design_day=True)"
   ]
  }
 ],
 "metadata": {
  "kernelspec": {
   "display_name": "Python (RadWorkshop)",
   "language": "python",
   "name": "radworkshop"
  },
  "language_info": {
   "codemirror_mode": {
    "name": "ipython",
    "version": 3
   },
   "file_extension": ".py",
   "mimetype": "text/x-python",
   "name": "python",
   "nbconvert_exporter": "python",
   "pygments_lexer": "ipython3",
   "version": "3.12.4"
  }
 },
 "nbformat": 4,
 "nbformat_minor": 5
}
